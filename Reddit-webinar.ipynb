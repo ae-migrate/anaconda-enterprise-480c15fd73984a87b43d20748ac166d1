{
 "cells": [
  {
   "cell_type": "markdown",
   "metadata": {},
   "source": [
    "## Import Dask and distributed scheduler"
   ]
  },
  {
   "cell_type": "code",
   "execution_count": 1,
   "metadata": {
    "collapsed": false
   },
   "outputs": [
    {
     "data": {
      "text/plain": [
       "<Executor: scheduler=127.0.0.1:8786 workers=56 threads=56>"
      ]
     },
     "execution_count": 1,
     "metadata": {},
     "output_type": "execute_result"
    }
   ],
   "source": [
    "from distributed import Executor, hdfs, progress\n",
    "e = Executor('127.0.0.1:8786')\n",
    "e"
   ]
  },
  {
   "cell_type": "markdown",
   "metadata": {},
   "source": [
    "## Load JSON data from HDFS using Python"
   ]
  },
  {
   "cell_type": "code",
   "execution_count": 2,
   "metadata": {
    "collapsed": false
   },
   "outputs": [
    {
     "name": "stdout",
     "output_type": "stream",
     "text": [
      "Setting global dask scheduler to use distributed\n"
     ]
    }
   ],
   "source": [
    "import json\n",
    "lines = hdfs.read_text('/user/hive/warehouse/reddit_json/RC_2015-*.json')  # 242 GB\n",
    "js = lines.map(json.loads)"
   ]
  },
  {
   "cell_type": "markdown",
   "metadata": {},
   "source": [
    "## Filter out movies subreddit and persist"
   ]
  },
  {
   "cell_type": "code",
   "execution_count": 3,
   "metadata": {
    "collapsed": false
   },
   "outputs": [],
   "source": [
    "movies = js.filter(lambda d: 'movies' in d['subreddit'])\n",
    "movies = e.persist(movies)\n",
    "progress(movies)"
   ]
  },
  {
   "cell_type": "code",
   "execution_count": 5,
   "metadata": {
    "collapsed": false
   },
   "outputs": [
    {
     "name": "stdout",
     "output_type": "stream",
     "text": [
      "CPU times: user 12 ms, sys: 0 ns, total: 12 ms\n",
      "Wall time: 18.2 ms\n"
     ]
    },
    {
     "data": {
      "text/plain": [
       "{u'archived': False,\n",
       " u'author': u'Da_Sau5_Boss',\n",
       " u'author_flair_css_class': None,\n",
       " u'author_flair_text': None,\n",
       " u'body': u'Dawn of the Apes was such an incredible movie, it should be up there in my opinion.',\n",
       " u'controversiality': 0,\n",
       " u'created_utc': u'1420070489',\n",
       " u'distinguished': None,\n",
       " u'downs': 0,\n",
       " u'edited': False,\n",
       " u'gilded': 0,\n",
       " u'id': u'cnasaeq',\n",
       " u'link_id': u't3_2qyq18',\n",
       " u'name': u't1_cnasaeq',\n",
       " u'parent_id': u't3_2qyq18',\n",
       " u'retrieved_on': 1425124264,\n",
       " u'score': 1,\n",
       " u'score_hidden': False,\n",
       " u'subreddit': u'movies',\n",
       " u'subreddit_id': u't5_2qh3s',\n",
       " u'ups': 1}"
      ]
     },
     "execution_count": 5,
     "metadata": {},
     "output_type": "execute_result"
    }
   ],
   "source": [
    "%time movies.take(10)[6]"
   ]
  },
  {
   "cell_type": "markdown",
   "metadata": {},
   "source": [
    "## Natural language processing with NLTK"
   ]
  },
  {
   "cell_type": "code",
   "execution_count": 6,
   "metadata": {
    "collapsed": true
   },
   "outputs": [],
   "source": [
    "import nltk\n",
    "sentence = 'Dawn of the Apes was such an incredible movie, it should be up there in my opinion.'"
   ]
  },
  {
   "cell_type": "code",
   "execution_count": 7,
   "metadata": {
    "collapsed": false
   },
   "outputs": [
    {
     "data": {
      "text/plain": [
       "['Dawn',\n",
       " 'of',\n",
       " 'the',\n",
       " 'Apes',\n",
       " 'was',\n",
       " 'such',\n",
       " 'an',\n",
       " 'incredible',\n",
       " 'movie',\n",
       " ',',\n",
       " 'it',\n",
       " 'should',\n",
       " 'be',\n",
       " 'up',\n",
       " 'there',\n",
       " 'in',\n",
       " 'my',\n",
       " 'opinion',\n",
       " '.']"
      ]
     },
     "execution_count": 7,
     "metadata": {},
     "output_type": "execute_result"
    }
   ],
   "source": [
    "words = nltk.word_tokenize(sentence)\n",
    "words"
   ]
  },
  {
   "cell_type": "code",
   "execution_count": 8,
   "metadata": {
    "collapsed": false
   },
   "outputs": [
    {
     "data": {
      "text/plain": [
       "[('Dawn', 'NN'),\n",
       " ('of', 'IN'),\n",
       " ('the', 'DT'),\n",
       " ('Apes', 'NNP'),\n",
       " ('was', 'VBD'),\n",
       " ('such', 'JJ'),\n",
       " ('an', 'DT'),\n",
       " ('incredible', 'JJ'),\n",
       " ('movie', 'NN'),\n",
       " (',', ','),\n",
       " ('it', 'PRP'),\n",
       " ('should', 'MD'),\n",
       " ('be', 'VB'),\n",
       " ('up', 'RP'),\n",
       " ('there', 'RB'),\n",
       " ('in', 'IN'),\n",
       " ('my', 'PRP$'),\n",
       " ('opinion', 'NN'),\n",
       " ('.', '.')]"
      ]
     },
     "execution_count": 8,
     "metadata": {},
     "output_type": "execute_result"
    }
   ],
   "source": [
    "nltk.pos_tag(words)"
   ]
  },
  {
   "cell_type": "markdown",
   "metadata": {},
   "source": [
    "## Distributed language processing with NLTK: Extracting nouns and filtering words"
   ]
  },
  {
   "cell_type": "code",
   "execution_count": 4,
   "metadata": {
    "collapsed": false
   },
   "outputs": [],
   "source": [
    "import nltk\n",
    "pos = e.persist(movies.pluck('body')              # [\"The quick brown fox\", ...]\n",
    "                      .map(nltk.word_tokenize)    # [\"The\", \"quick\", \"brown\", \"fox\", ...]\n",
    "                      .map(nltk.pos_tag)          # [(\"The\", \"Article\"), (\"quick\", \"ADJ\"), ...]\n",
    "                      .concat()                   # [(\"The\", \"Article\"), (\"quick\", \"ADJ\"), ...]\n",
    "                      .filter(lambda (word, pos): word.isalpha()))\n",
    "\n",
    "progress(pos)"
   ]
  },
  {
   "cell_type": "code",
   "execution_count": 11,
   "metadata": {
    "collapsed": true
   },
   "outputs": [],
   "source": [
    "f = e.compute(pos.filter(lambda (word, type): type == 'NNP')  # [(\"fox\", \"NN\"), (\"dog\", \"NN\"), ...]\n",
    "                 .pluck(0)  # get words                      # [\"fox\", \"dog\", ...]\n",
    "                 .frequencies()                              # [(\"fox\", 435), (\"dog\", 1952), ...]\n",
    "                 .topk(10, lambda (word, count): count))     # [(\"dog\", 1952), ...]\n",
    "progress(f)"
   ]
  },
  {
   "cell_type": "code",
   "execution_count": 12,
   "metadata": {
    "collapsed": false
   },
   "outputs": [
    {
     "data": {
      "text/plain": [
       "[(u'Marvel', 35452),\n",
       " (u'Star', 34849),\n",
       " (u'Batman', 31749),\n",
       " (u'Wars', 28875),\n",
       " (u'Man', 26423),\n",
       " (u'John', 25304),\n",
       " (u'Superman', 22476),\n",
       " (u'Hollywood', 19840),\n",
       " (u'Max', 19558),\n",
       " (u'CGI', 19304)]"
      ]
     },
     "execution_count": 12,
     "metadata": {},
     "output_type": "execute_result"
    }
   ],
   "source": [
    "f.result()"
   ]
  },
  {
   "cell_type": "markdown",
   "metadata": {},
   "source": [
    "## Visualize with Bokeh"
   ]
  },
  {
   "cell_type": "code",
   "execution_count": 13,
   "metadata": {
    "collapsed": false
   },
   "outputs": [
    {
     "data": {
      "text/html": [
       "\n",
       "    <div class=\"bk-banner\">\n",
       "        <a href=\"http://bokeh.pydata.org\" target=\"_blank\" class=\"bk-logo bk-logo-small bk-logo-notebook\"></a>\n",
       "        <span id=\"6cc79a70-1df2-422d-8f55-057973c16b1b\">Loading BokehJS ...</span>\n",
       "    </div>"
      ]
     },
     "metadata": {},
     "output_type": "display_data"
    },
    {
     "data": {
      "application/javascript": [
       "\n",
       "(function(global) {\n",
       "  function now() {\n",
       "    return new Date();\n",
       "  }\n",
       "\n",
       "  if (typeof (window._bokeh_onload_callbacks) === \"undefined\") {\n",
       "    window._bokeh_onload_callbacks = [];\n",
       "  }\n",
       "\n",
       "  function run_callbacks() {\n",
       "    window._bokeh_onload_callbacks.forEach(function(callback) { callback() });\n",
       "    delete window._bokeh_onload_callbacks\n",
       "    console.info(\"Bokeh: all callbacks have finished\");\n",
       "  }\n",
       "\n",
       "  function load_libs(js_urls, callback) {\n",
       "    window._bokeh_onload_callbacks.push(callback);\n",
       "    if (window._bokeh_is_loading > 0) {\n",
       "      console.log(\"Bokeh: BokehJS is being loaded, scheduling callback at\", now());\n",
       "      return null;\n",
       "    }\n",
       "    if (js_urls == null || js_urls.length === 0) {\n",
       "      run_callbacks();\n",
       "      return null;\n",
       "    }\n",
       "    console.log(\"Bokeh: BokehJS not loaded, scheduling load and callback at\", now());\n",
       "    window._bokeh_is_loading = js_urls.length;\n",
       "    for (var i = 0; i < js_urls.length; i++) {\n",
       "      var url = js_urls[i];\n",
       "      var s = document.createElement('script');\n",
       "      s.src = url;\n",
       "      s.async = false;\n",
       "      s.onreadystatechange = s.onload = function() {\n",
       "        window._bokeh_is_loading--;\n",
       "        if (window._bokeh_is_loading === 0) {\n",
       "          console.log(\"Bokeh: all BokehJS libraries loaded\");\n",
       "          run_callbacks()\n",
       "        }\n",
       "      };\n",
       "      s.onerror = function() {\n",
       "        console.warn(\"failed to load library \" + url);\n",
       "      };\n",
       "      console.log(\"Bokeh: injecting script tag for BokehJS library: \", url);\n",
       "      document.getElementsByTagName(\"head\")[0].appendChild(s);\n",
       "    }\n",
       "  };\n",
       "\n",
       "  var js_urls = ['https://cdn.pydata.org/bokeh/release/bokeh-0.11.1.min.js', 'https://cdn.pydata.org/bokeh/release/bokeh-widgets-0.11.1.min.js', 'https://cdn.pydata.org/bokeh/release/bokeh-compiler-0.11.1.min.js'];\n",
       "\n",
       "  var inline_js = [\n",
       "    function(Bokeh) {\n",
       "      Bokeh.set_log_level(\"info\");\n",
       "    },\n",
       "    \n",
       "    function(Bokeh) {\n",
       "      Bokeh.$(\"#6cc79a70-1df2-422d-8f55-057973c16b1b\").text(\"BokehJS successfully loaded\");\n",
       "    },\n",
       "    function(Bokeh) {\n",
       "      console.log(\"Bokeh: injecting CSS: https://cdn.pydata.org/bokeh/release/bokeh-0.11.1.min.css\");\n",
       "      Bokeh.embed.inject_css(\"https://cdn.pydata.org/bokeh/release/bokeh-0.11.1.min.css\");\n",
       "      console.log(\"Bokeh: injecting CSS: https://cdn.pydata.org/bokeh/release/bokeh-widgets-0.11.1.min.css\");\n",
       "      Bokeh.embed.inject_css(\"https://cdn.pydata.org/bokeh/release/bokeh-widgets-0.11.1.min.css\");\n",
       "    }\n",
       "  ];\n",
       "\n",
       "  function run_inline_js() {\n",
       "    for (var i = 0; i < inline_js.length; i++) {\n",
       "      inline_js[i](window.Bokeh);\n",
       "    }\n",
       "  }\n",
       "\n",
       "  if (window._bokeh_is_loading === 0) {\n",
       "    console.log(\"Bokeh: BokehJS loaded, going straight to plotting\");\n",
       "    run_inline_js();\n",
       "  } else {\n",
       "    load_libs(js_urls, function() {\n",
       "      console.log(\"Bokeh: BokehJS plotting callback run at\", now());\n",
       "      run_inline_js();\n",
       "    });\n",
       "  }\n",
       "}(this));"
      ]
     },
     "metadata": {},
     "output_type": "display_data"
    },
    {
     "data": {
      "text/html": [
       "\n",
       "\n",
       "    <div class=\"plotdiv\" id=\"0caebcde-ff6c-4855-906a-41404c33420e\"></div>\n",
       "<script type=\"text/javascript\">\n",
       "  \n",
       "  (function(global) {\n",
       "    function now() {\n",
       "      return new Date();\n",
       "    }\n",
       "  \n",
       "    if (typeof (window._bokeh_onload_callbacks) === \"undefined\") {\n",
       "      window._bokeh_onload_callbacks = [];\n",
       "    }\n",
       "  \n",
       "    function run_callbacks() {\n",
       "      window._bokeh_onload_callbacks.forEach(function(callback) { callback() });\n",
       "      delete window._bokeh_onload_callbacks\n",
       "      console.info(\"Bokeh: all callbacks have finished\");\n",
       "    }\n",
       "  \n",
       "    function load_libs(js_urls, callback) {\n",
       "      window._bokeh_onload_callbacks.push(callback);\n",
       "      if (window._bokeh_is_loading > 0) {\n",
       "        console.log(\"Bokeh: BokehJS is being loaded, scheduling callback at\", now());\n",
       "        return null;\n",
       "      }\n",
       "      if (js_urls == null || js_urls.length === 0) {\n",
       "        run_callbacks();\n",
       "        return null;\n",
       "      }\n",
       "      console.log(\"Bokeh: BokehJS not loaded, scheduling load and callback at\", now());\n",
       "      window._bokeh_is_loading = js_urls.length;\n",
       "      for (var i = 0; i < js_urls.length; i++) {\n",
       "        var url = js_urls[i];\n",
       "        var s = document.createElement('script');\n",
       "        s.src = url;\n",
       "        s.async = false;\n",
       "        s.onreadystatechange = s.onload = function() {\n",
       "          window._bokeh_is_loading--;\n",
       "          if (window._bokeh_is_loading === 0) {\n",
       "            console.log(\"Bokeh: all BokehJS libraries loaded\");\n",
       "            run_callbacks()\n",
       "          }\n",
       "        };\n",
       "        s.onerror = function() {\n",
       "          console.warn(\"failed to load library \" + url);\n",
       "        };\n",
       "        console.log(\"Bokeh: injecting script tag for BokehJS library: \", url);\n",
       "        document.getElementsByTagName(\"head\")[0].appendChild(s);\n",
       "      }\n",
       "    };var element = document.getElementById(\"0caebcde-ff6c-4855-906a-41404c33420e\");\n",
       "    if (element == null) {\n",
       "      console.log(\"Bokeh: ERROR: autoload.js configured with elementid '0caebcde-ff6c-4855-906a-41404c33420e' but no matching script tag was found. \")\n",
       "      return false;\n",
       "    }\n",
       "  \n",
       "    var js_urls = [];\n",
       "  \n",
       "    var inline_js = [\n",
       "      function(Bokeh) {\n",
       "        Bokeh.$(function() {\n",
       "            var docs_json = {\"e764b826-5d9a-4329-90df-763a3547a922\":{\"roots\":{\"references\":[{\"attributes\":{\"callback\":null,\"column_names\":[\"line_color\",\"line_alpha\",\"color\",\"fill_alpha\",\"height\",\"width\",\"y\",\"x\"],\"data\":{\"Noun\":[\"Batman\"],\"chart_index\":[{\"Noun\":\"Batman\"}],\"color\":[\"#f22c40\"],\"fill_alpha\":[0.8],\"height\":[31749.0],\"line_alpha\":[1.0],\"line_color\":[\"white\"],\"width\":[0.8],\"x\":[\"Batman\"],\"y\":[15874.5]}},\"id\":\"f8390a0d-d4ce-4f31-9115-dd74aca672f8\",\"type\":\"ColumnDataSource\"},{\"attributes\":{\"fill_alpha\":{\"field\":\"fill_alpha\"},\"fill_color\":{\"field\":\"color\"},\"height\":{\"field\":\"height\",\"units\":\"data\"},\"line_color\":{\"field\":\"line_color\"},\"width\":{\"field\":\"width\",\"units\":\"data\"},\"x\":{\"field\":\"x\"},\"y\":{\"field\":\"y\"}},\"id\":\"5364a044-54fe-431c-9ae6-66b8b659eeac\",\"type\":\"Rect\"},{\"attributes\":{\"data_source\":{\"id\":\"f279c089-70fb-4522-8372-4a6918825e4a\",\"type\":\"ColumnDataSource\"},\"glyph\":{\"id\":\"3caf6aa8-5751-4195-8fd5-d4991383be0b\",\"type\":\"Rect\"},\"hover_glyph\":null,\"nonselection_glyph\":null,\"selection_glyph\":null},\"id\":\"a3b4b4a5-c2a0-47ac-a309-ea0efa282a9b\",\"type\":\"GlyphRenderer\"},{\"attributes\":{\"callback\":null,\"column_names\":[\"line_color\",\"line_alpha\",\"color\",\"fill_alpha\",\"height\",\"width\",\"y\",\"x\"],\"data\":{\"Noun\":[\"Marvel\"],\"chart_index\":[{\"Noun\":\"Marvel\"}],\"color\":[\"#f22c40\"],\"fill_alpha\":[0.8],\"height\":[35452.0],\"line_alpha\":[1.0],\"line_color\":[\"white\"],\"width\":[0.8],\"x\":[\"Marvel\"],\"y\":[17726.0]}},\"id\":\"7bccf984-d7f3-4165-8569-e8dc78d9944e\",\"type\":\"ColumnDataSource\"},{\"attributes\":{\"data_source\":{\"id\":\"7bccf984-d7f3-4165-8569-e8dc78d9944e\",\"type\":\"ColumnDataSource\"},\"glyph\":{\"id\":\"78906e04-cb6a-4bda-befc-0e475503f1a0\",\"type\":\"Rect\"},\"hover_glyph\":null,\"nonselection_glyph\":null,\"selection_glyph\":null},\"id\":\"4510cf55-8642-45d0-bd31-f88a5ca10efb\",\"type\":\"GlyphRenderer\"},{\"attributes\":{\"callback\":null,\"factors\":[\"Marvel\",\"Star\",\"Batman\",\"Wars\",\"Man\",\"John\",\"Superman\",\"Hollywood\",\"Max\",\"CGI\"]},\"id\":\"74d6209f-8b72-4581-976f-f6bc0b5c5f0b\",\"type\":\"FactorRange\"},{\"attributes\":{\"bottom_units\":\"screen\",\"fill_alpha\":{\"value\":0.5},\"fill_color\":{\"value\":\"lightgrey\"},\"left_units\":\"screen\",\"level\":\"overlay\",\"line_alpha\":{\"value\":1.0},\"line_color\":{\"value\":\"black\"},\"line_dash\":[4,4],\"line_width\":{\"value\":2},\"plot\":null,\"render_mode\":\"css\",\"right_units\":\"screen\",\"top_units\":\"screen\"},\"id\":\"01afb7e9-68f5-449d-92a0-f7e349f12262\",\"type\":\"BoxAnnotation\"},{\"attributes\":{\"data_source\":{\"id\":\"0807cb5d-4340-4267-924b-94eca9b08904\",\"type\":\"ColumnDataSource\"},\"glyph\":{\"id\":\"f3e242c9-ff38-42bc-92a7-a7f7da3c8706\",\"type\":\"Rect\"},\"hover_glyph\":null,\"nonselection_glyph\":null,\"selection_glyph\":null},\"id\":\"7ae35fea-80f3-4c9b-873a-61040d2f4137\",\"type\":\"GlyphRenderer\"},{\"attributes\":{},\"id\":\"66d1f6ec-5765-4f13-99c3-1984d2345777\",\"type\":\"CategoricalTickFormatter\"},{\"attributes\":{\"fill_alpha\":{\"field\":\"fill_alpha\"},\"fill_color\":{\"field\":\"color\"},\"height\":{\"field\":\"height\",\"units\":\"data\"},\"line_color\":{\"field\":\"line_color\"},\"width\":{\"field\":\"width\",\"units\":\"data\"},\"x\":{\"field\":\"x\"},\"y\":{\"field\":\"y\"}},\"id\":\"007e8b32-4ba1-40b3-9fd5-94620367de0b\",\"type\":\"Rect\"},{\"attributes\":{\"axis_label\":\"Sum( Count )\",\"formatter\":{\"id\":\"d67dd329-e8c3-46e1-97ce-0ce24f966b06\",\"type\":\"BasicTickFormatter\"},\"plot\":{\"id\":\"0985a4ee-2b08-4dfc-ae75-34134cc4986c\",\"subtype\":\"Chart\",\"type\":\"Plot\"},\"ticker\":{\"id\":\"eb8f2c93-4298-4623-b915-1d0b1e9e51a3\",\"type\":\"BasicTicker\"}},\"id\":\"ea3c46b2-2601-46f9-9c73-258dbe371f59\",\"type\":\"LinearAxis\"},{\"attributes\":{\"callback\":null,\"column_names\":[\"line_color\",\"line_alpha\",\"color\",\"fill_alpha\",\"height\",\"width\",\"y\",\"x\"],\"data\":{\"Noun\":[\"CGI\"],\"chart_index\":[{\"Noun\":\"CGI\"}],\"color\":[\"#f22c40\"],\"fill_alpha\":[0.8],\"height\":[19304.0],\"line_alpha\":[1.0],\"line_color\":[\"white\"],\"width\":[0.8],\"x\":[\"CGI\"],\"y\":[9652.0]}},\"id\":\"c58dc801-3067-4085-9184-c9b7790e89ce\",\"type\":\"ColumnDataSource\"},{\"attributes\":{},\"id\":\"9744fc4a-d526-4bb9-85f8-da434f3d0afc\",\"type\":\"CategoricalTicker\"},{\"attributes\":{},\"id\":\"d67dd329-e8c3-46e1-97ce-0ce24f966b06\",\"type\":\"BasicTickFormatter\"},{\"attributes\":{\"fill_alpha\":{\"field\":\"fill_alpha\"},\"fill_color\":{\"field\":\"color\"},\"height\":{\"field\":\"height\",\"units\":\"data\"},\"line_color\":{\"field\":\"line_color\"},\"width\":{\"field\":\"width\",\"units\":\"data\"},\"x\":{\"field\":\"x\"},\"y\":{\"field\":\"y\"}},\"id\":\"e05194fa-93ce-4804-992f-0c9e72a3052c\",\"type\":\"Rect\"},{\"attributes\":{\"callback\":null,\"end\":37224.6},\"id\":\"b02b6f20-9ff1-40de-a012-c805dde5ec0e\",\"type\":\"Range1d\"},{\"attributes\":{\"plot\":{\"id\":\"0985a4ee-2b08-4dfc-ae75-34134cc4986c\",\"subtype\":\"Chart\",\"type\":\"Plot\"}},\"id\":\"0f6dfbe4-f219-4565-a4c4-fa9e5a94f74e\",\"type\":\"PreviewSaveTool\"},{\"attributes\":{\"overlay\":{\"id\":\"01afb7e9-68f5-449d-92a0-f7e349f12262\",\"type\":\"BoxAnnotation\"},\"plot\":{\"id\":\"0985a4ee-2b08-4dfc-ae75-34134cc4986c\",\"subtype\":\"Chart\",\"type\":\"Plot\"}},\"id\":\"b501aa17-6311-4601-bd07-7e231def5451\",\"type\":\"BoxZoomTool\"},{\"attributes\":{\"callback\":null,\"column_names\":[\"line_color\",\"line_alpha\",\"color\",\"fill_alpha\",\"height\",\"width\",\"y\",\"x\"],\"data\":{\"Noun\":[\"Max\"],\"chart_index\":[{\"Noun\":\"Max\"}],\"color\":[\"#f22c40\"],\"fill_alpha\":[0.8],\"height\":[19558.0],\"line_alpha\":[1.0],\"line_color\":[\"white\"],\"width\":[0.8],\"x\":[\"Max\"],\"y\":[9779.0]}},\"id\":\"bcb7761e-3eaf-458b-a1da-4c502ab9d006\",\"type\":\"ColumnDataSource\"},{\"attributes\":{\"callback\":null,\"column_names\":[\"line_color\",\"line_alpha\",\"color\",\"fill_alpha\",\"height\",\"width\",\"y\",\"x\"],\"data\":{\"Noun\":[\"Wars\"],\"chart_index\":[{\"Noun\":\"Wars\"}],\"color\":[\"#f22c40\"],\"fill_alpha\":[0.8],\"height\":[28875.0],\"line_alpha\":[1.0],\"line_color\":[\"white\"],\"width\":[0.8],\"x\":[\"Wars\"],\"y\":[14437.5]}},\"id\":\"0807cb5d-4340-4267-924b-94eca9b08904\",\"type\":\"ColumnDataSource\"},{\"attributes\":{\"callback\":null,\"column_names\":[\"line_color\",\"line_alpha\",\"color\",\"fill_alpha\",\"height\",\"width\",\"y\",\"x\"],\"data\":{\"Noun\":[\"Man\"],\"chart_index\":[{\"Noun\":\"Man\"}],\"color\":[\"#f22c40\"],\"fill_alpha\":[0.8],\"height\":[26423.0],\"line_alpha\":[1.0],\"line_color\":[\"white\"],\"width\":[0.8],\"x\":[\"Man\"],\"y\":[13211.5]}},\"id\":\"f279c089-70fb-4522-8372-4a6918825e4a\",\"type\":\"ColumnDataSource\"},{\"attributes\":{\"plot\":{\"id\":\"0985a4ee-2b08-4dfc-ae75-34134cc4986c\",\"subtype\":\"Chart\",\"type\":\"Plot\"}},\"id\":\"2589354b-1d26-4dbb-b8d4-c64bff33cb27\",\"type\":\"PanTool\"},{\"attributes\":{\"callback\":null,\"column_names\":[\"line_color\",\"line_alpha\",\"color\",\"fill_alpha\",\"height\",\"width\",\"y\",\"x\"],\"data\":{\"Noun\":[\"Star\"],\"chart_index\":[{\"Noun\":\"Star\"}],\"color\":[\"#f22c40\"],\"fill_alpha\":[0.8],\"height\":[34849.0],\"line_alpha\":[1.0],\"line_color\":[\"white\"],\"width\":[0.8],\"x\":[\"Star\"],\"y\":[17424.5]}},\"id\":\"62cb0413-e021-4ced-b091-914d88b24e49\",\"type\":\"ColumnDataSource\"},{\"attributes\":{\"dimension\":1,\"plot\":{\"id\":\"0985a4ee-2b08-4dfc-ae75-34134cc4986c\",\"subtype\":\"Chart\",\"type\":\"Plot\"},\"ticker\":{\"id\":\"eb8f2c93-4298-4623-b915-1d0b1e9e51a3\",\"type\":\"BasicTicker\"}},\"id\":\"85b936b4-5df2-41eb-b21d-775279552177\",\"type\":\"Grid\"},{\"attributes\":{\"data_source\":{\"id\":\"af76b168-335f-4e85-9b55-6dcbc5c679c1\",\"type\":\"ColumnDataSource\"},\"glyph\":{\"id\":\"4b555f03-4934-4f4f-a538-81171ff342fa\",\"type\":\"Rect\"},\"hover_glyph\":null,\"nonselection_glyph\":null,\"selection_glyph\":null},\"id\":\"a62e0057-a0e4-493b-bf15-86f634d422b1\",\"type\":\"GlyphRenderer\"},{\"attributes\":{\"fill_alpha\":{\"field\":\"fill_alpha\"},\"fill_color\":{\"field\":\"color\"},\"height\":{\"field\":\"height\",\"units\":\"data\"},\"line_color\":{\"field\":\"line_color\"},\"width\":{\"field\":\"width\",\"units\":\"data\"},\"x\":{\"field\":\"x\"},\"y\":{\"field\":\"y\"}},\"id\":\"3caf6aa8-5751-4195-8fd5-d4991383be0b\",\"type\":\"Rect\"},{\"attributes\":{\"data_source\":{\"id\":\"c58dc801-3067-4085-9184-c9b7790e89ce\",\"type\":\"ColumnDataSource\"},\"glyph\":{\"id\":\"e05194fa-93ce-4804-992f-0c9e72a3052c\",\"type\":\"Rect\"},\"hover_glyph\":null,\"nonselection_glyph\":null,\"selection_glyph\":null},\"id\":\"dd06907b-0c72-473d-a915-d8ea74f252db\",\"type\":\"GlyphRenderer\"},{\"attributes\":{\"below\":[{\"id\":\"ecadf332-75c3-4702-842f-7e0f40aae68d\",\"type\":\"CategoricalAxis\"}],\"left\":[{\"id\":\"ea3c46b2-2601-46f9-9c73-258dbe371f59\",\"type\":\"LinearAxis\"}],\"legend\":null,\"renderers\":[{\"id\":\"01afb7e9-68f5-449d-92a0-f7e349f12262\",\"type\":\"BoxAnnotation\"},{\"id\":\"4510cf55-8642-45d0-bd31-f88a5ca10efb\",\"type\":\"GlyphRenderer\"},{\"id\":\"ccc519c8-d775-46f3-8808-0f5f540bdc78\",\"type\":\"GlyphRenderer\"},{\"id\":\"d2a6196e-ab4e-40c1-b791-02d186ea21f9\",\"type\":\"GlyphRenderer\"},{\"id\":\"7ae35fea-80f3-4c9b-873a-61040d2f4137\",\"type\":\"GlyphRenderer\"},{\"id\":\"a3b4b4a5-c2a0-47ac-a309-ea0efa282a9b\",\"type\":\"GlyphRenderer\"},{\"id\":\"5366c23f-7e76-4e6a-82b3-995d385cb256\",\"type\":\"GlyphRenderer\"},{\"id\":\"a62e0057-a0e4-493b-bf15-86f634d422b1\",\"type\":\"GlyphRenderer\"},{\"id\":\"02310445-a38a-41b7-91ef-94993f9fef4a\",\"type\":\"GlyphRenderer\"},{\"id\":\"03f05166-d2bb-41a2-a3d3-c68bf1d7a91c\",\"type\":\"GlyphRenderer\"},{\"id\":\"dd06907b-0c72-473d-a915-d8ea74f252db\",\"type\":\"GlyphRenderer\"},{\"id\":\"ecadf332-75c3-4702-842f-7e0f40aae68d\",\"type\":\"CategoricalAxis\"},{\"id\":\"ea3c46b2-2601-46f9-9c73-258dbe371f59\",\"type\":\"LinearAxis\"},{\"id\":\"85b936b4-5df2-41eb-b21d-775279552177\",\"type\":\"Grid\"}],\"title\":\"Top N nouns in r/movies subreddit\",\"title_text_font_size\":{\"value\":\"14pt\"},\"tool_events\":{\"id\":\"5b483d06-0fcb-4f63-88b7-03d053b7a428\",\"type\":\"ToolEvents\"},\"tools\":[{\"id\":\"2589354b-1d26-4dbb-b8d4-c64bff33cb27\",\"type\":\"PanTool\"},{\"id\":\"9569912f-97c4-4ea8-b242-b8b19ed21950\",\"type\":\"WheelZoomTool\"},{\"id\":\"b501aa17-6311-4601-bd07-7e231def5451\",\"type\":\"BoxZoomTool\"},{\"id\":\"0f6dfbe4-f219-4565-a4c4-fa9e5a94f74e\",\"type\":\"PreviewSaveTool\"},{\"id\":\"d5b15407-a72c-465d-a753-db491b214cb8\",\"type\":\"ResizeTool\"},{\"id\":\"9056304b-7868-4ee4-9fec-d1a9a07bd536\",\"type\":\"ResetTool\"},{\"id\":\"e598796c-dd7d-4f39-979c-1639765b61a7\",\"type\":\"HelpTool\"}],\"x_mapper_type\":\"auto\",\"x_range\":{\"id\":\"74d6209f-8b72-4581-976f-f6bc0b5c5f0b\",\"type\":\"FactorRange\"},\"xgrid\":false,\"xscale\":\"auto\",\"y_mapper_type\":\"auto\",\"y_range\":{\"id\":\"b02b6f20-9ff1-40de-a012-c805dde5ec0e\",\"type\":\"Range1d\"},\"yscale\":\"auto\"},\"id\":\"0985a4ee-2b08-4dfc-ae75-34134cc4986c\",\"subtype\":\"Chart\",\"type\":\"Plot\"},{\"attributes\":{\"data_source\":{\"id\":\"f8390a0d-d4ce-4f31-9115-dd74aca672f8\",\"type\":\"ColumnDataSource\"},\"glyph\":{\"id\":\"f744feee-f655-47d0-9c3f-b0612eab4390\",\"type\":\"Rect\"},\"hover_glyph\":null,\"nonselection_glyph\":null,\"selection_glyph\":null},\"id\":\"d2a6196e-ab4e-40c1-b791-02d186ea21f9\",\"type\":\"GlyphRenderer\"},{\"attributes\":{\"data_source\":{\"id\":\"5ae1d9b3-9245-425c-8505-e5f030c9ffbe\",\"type\":\"ColumnDataSource\"},\"glyph\":{\"id\":\"16ba90c2-38f8-4f22-9729-7092cf1be688\",\"type\":\"Rect\"},\"hover_glyph\":null,\"nonselection_glyph\":null,\"selection_glyph\":null},\"id\":\"02310445-a38a-41b7-91ef-94993f9fef4a\",\"type\":\"GlyphRenderer\"},{\"attributes\":{\"fill_alpha\":{\"field\":\"fill_alpha\"},\"fill_color\":{\"field\":\"color\"},\"height\":{\"field\":\"height\",\"units\":\"data\"},\"line_color\":{\"field\":\"line_color\"},\"width\":{\"field\":\"width\",\"units\":\"data\"},\"x\":{\"field\":\"x\"},\"y\":{\"field\":\"y\"}},\"id\":\"7310f529-bcc6-4036-86b3-766ffa58e59a\",\"type\":\"Rect\"},{\"attributes\":{\"callback\":null,\"column_names\":[\"line_color\",\"line_alpha\",\"color\",\"fill_alpha\",\"height\",\"width\",\"y\",\"x\"],\"data\":{\"Noun\":[\"John\"],\"chart_index\":[{\"Noun\":\"John\"}],\"color\":[\"#f22c40\"],\"fill_alpha\":[0.8],\"height\":[25304.0],\"line_alpha\":[1.0],\"line_color\":[\"white\"],\"width\":[0.8],\"x\":[\"John\"],\"y\":[12652.0]}},\"id\":\"d59dbe25-32db-4dfc-9402-104f5cb4b0cd\",\"type\":\"ColumnDataSource\"},{\"attributes\":{\"data_source\":{\"id\":\"62cb0413-e021-4ced-b091-914d88b24e49\",\"type\":\"ColumnDataSource\"},\"glyph\":{\"id\":\"7310f529-bcc6-4036-86b3-766ffa58e59a\",\"type\":\"Rect\"},\"hover_glyph\":null,\"nonselection_glyph\":null,\"selection_glyph\":null},\"id\":\"ccc519c8-d775-46f3-8808-0f5f540bdc78\",\"type\":\"GlyphRenderer\"},{\"attributes\":{\"fill_alpha\":{\"field\":\"fill_alpha\"},\"fill_color\":{\"field\":\"color\"},\"height\":{\"field\":\"height\",\"units\":\"data\"},\"line_color\":{\"field\":\"line_color\"},\"width\":{\"field\":\"width\",\"units\":\"data\"},\"x\":{\"field\":\"x\"},\"y\":{\"field\":\"y\"}},\"id\":\"f3e242c9-ff38-42bc-92a7-a7f7da3c8706\",\"type\":\"Rect\"},{\"attributes\":{\"data_source\":{\"id\":\"d59dbe25-32db-4dfc-9402-104f5cb4b0cd\",\"type\":\"ColumnDataSource\"},\"glyph\":{\"id\":\"007e8b32-4ba1-40b3-9fd5-94620367de0b\",\"type\":\"Rect\"},\"hover_glyph\":null,\"nonselection_glyph\":null,\"selection_glyph\":null},\"id\":\"5366c23f-7e76-4e6a-82b3-995d385cb256\",\"type\":\"GlyphRenderer\"},{\"attributes\":{\"callback\":null,\"column_names\":[\"line_color\",\"line_alpha\",\"color\",\"fill_alpha\",\"height\",\"width\",\"y\",\"x\"],\"data\":{\"Noun\":[\"Hollywood\"],\"chart_index\":[{\"Noun\":\"Hollywood\"}],\"color\":[\"#f22c40\"],\"fill_alpha\":[0.8],\"height\":[19840.0],\"line_alpha\":[1.0],\"line_color\":[\"white\"],\"width\":[0.8],\"x\":[\"Hollywood\"],\"y\":[9920.0]}},\"id\":\"5ae1d9b3-9245-425c-8505-e5f030c9ffbe\",\"type\":\"ColumnDataSource\"},{\"attributes\":{\"fill_alpha\":{\"field\":\"fill_alpha\"},\"fill_color\":{\"field\":\"color\"},\"height\":{\"field\":\"height\",\"units\":\"data\"},\"line_color\":{\"field\":\"line_color\"},\"width\":{\"field\":\"width\",\"units\":\"data\"},\"x\":{\"field\":\"x\"},\"y\":{\"field\":\"y\"}},\"id\":\"4b555f03-4934-4f4f-a538-81171ff342fa\",\"type\":\"Rect\"},{\"attributes\":{\"plot\":{\"id\":\"0985a4ee-2b08-4dfc-ae75-34134cc4986c\",\"subtype\":\"Chart\",\"type\":\"Plot\"}},\"id\":\"d5b15407-a72c-465d-a753-db491b214cb8\",\"type\":\"ResizeTool\"},{\"attributes\":{\"plot\":{\"id\":\"0985a4ee-2b08-4dfc-ae75-34134cc4986c\",\"subtype\":\"Chart\",\"type\":\"Plot\"}},\"id\":\"e598796c-dd7d-4f39-979c-1639765b61a7\",\"type\":\"HelpTool\"},{\"attributes\":{},\"id\":\"5b483d06-0fcb-4f63-88b7-03d053b7a428\",\"type\":\"ToolEvents\"},{\"attributes\":{\"data_source\":{\"id\":\"bcb7761e-3eaf-458b-a1da-4c502ab9d006\",\"type\":\"ColumnDataSource\"},\"glyph\":{\"id\":\"5364a044-54fe-431c-9ae6-66b8b659eeac\",\"type\":\"Rect\"},\"hover_glyph\":null,\"nonselection_glyph\":null,\"selection_glyph\":null},\"id\":\"03f05166-d2bb-41a2-a3d3-c68bf1d7a91c\",\"type\":\"GlyphRenderer\"},{\"attributes\":{\"plot\":{\"id\":\"0985a4ee-2b08-4dfc-ae75-34134cc4986c\",\"subtype\":\"Chart\",\"type\":\"Plot\"}},\"id\":\"9569912f-97c4-4ea8-b242-b8b19ed21950\",\"type\":\"WheelZoomTool\"},{\"attributes\":{\"fill_alpha\":{\"field\":\"fill_alpha\"},\"fill_color\":{\"field\":\"color\"},\"height\":{\"field\":\"height\",\"units\":\"data\"},\"line_color\":{\"field\":\"line_color\"},\"width\":{\"field\":\"width\",\"units\":\"data\"},\"x\":{\"field\":\"x\"},\"y\":{\"field\":\"y\"}},\"id\":\"f744feee-f655-47d0-9c3f-b0612eab4390\",\"type\":\"Rect\"},{\"attributes\":{\"callback\":null,\"column_names\":[\"line_color\",\"line_alpha\",\"color\",\"fill_alpha\",\"height\",\"width\",\"y\",\"x\"],\"data\":{\"Noun\":[\"Superman\"],\"chart_index\":[{\"Noun\":\"Superman\"}],\"color\":[\"#f22c40\"],\"fill_alpha\":[0.8],\"height\":[22476.0],\"line_alpha\":[1.0],\"line_color\":[\"white\"],\"width\":[0.8],\"x\":[\"Superman\"],\"y\":[11238.0]}},\"id\":\"af76b168-335f-4e85-9b55-6dcbc5c679c1\",\"type\":\"ColumnDataSource\"},{\"attributes\":{},\"id\":\"eb8f2c93-4298-4623-b915-1d0b1e9e51a3\",\"type\":\"BasicTicker\"},{\"attributes\":{\"plot\":{\"id\":\"0985a4ee-2b08-4dfc-ae75-34134cc4986c\",\"subtype\":\"Chart\",\"type\":\"Plot\"}},\"id\":\"9056304b-7868-4ee4-9fec-d1a9a07bd536\",\"type\":\"ResetTool\"},{\"attributes\":{\"fill_alpha\":{\"field\":\"fill_alpha\"},\"fill_color\":{\"field\":\"color\"},\"height\":{\"field\":\"height\",\"units\":\"data\"},\"line_color\":{\"field\":\"line_color\"},\"width\":{\"field\":\"width\",\"units\":\"data\"},\"x\":{\"field\":\"x\"},\"y\":{\"field\":\"y\"}},\"id\":\"78906e04-cb6a-4bda-befc-0e475503f1a0\",\"type\":\"Rect\"},{\"attributes\":{\"axis_label\":\"Noun\",\"formatter\":{\"id\":\"66d1f6ec-5765-4f13-99c3-1984d2345777\",\"type\":\"CategoricalTickFormatter\"},\"major_label_orientation\":0.7853981633974483,\"plot\":{\"id\":\"0985a4ee-2b08-4dfc-ae75-34134cc4986c\",\"subtype\":\"Chart\",\"type\":\"Plot\"},\"ticker\":{\"id\":\"9744fc4a-d526-4bb9-85f8-da434f3d0afc\",\"type\":\"CategoricalTicker\"}},\"id\":\"ecadf332-75c3-4702-842f-7e0f40aae68d\",\"type\":\"CategoricalAxis\"},{\"attributes\":{\"fill_alpha\":{\"field\":\"fill_alpha\"},\"fill_color\":{\"field\":\"color\"},\"height\":{\"field\":\"height\",\"units\":\"data\"},\"line_color\":{\"field\":\"line_color\"},\"width\":{\"field\":\"width\",\"units\":\"data\"},\"x\":{\"field\":\"x\"},\"y\":{\"field\":\"y\"}},\"id\":\"16ba90c2-38f8-4f22-9729-7092cf1be688\",\"type\":\"Rect\"}],\"root_ids\":[\"0985a4ee-2b08-4dfc-ae75-34134cc4986c\"]},\"title\":\"Bokeh Application\",\"version\":\"0.11.1\"}};\n",
       "            var render_items = [{\"docid\":\"e764b826-5d9a-4329-90df-763a3547a922\",\"elementid\":\"0caebcde-ff6c-4855-906a-41404c33420e\",\"modelid\":\"0985a4ee-2b08-4dfc-ae75-34134cc4986c\",\"notebook_comms_target\":\"b120252e-baaa-4591-80e7-67d8109d37a2\"}];\n",
       "            \n",
       "            Bokeh.embed.embed_items(docs_json, render_items);\n",
       "        });\n",
       "      },\n",
       "      function(Bokeh) {\n",
       "      }\n",
       "    ];\n",
       "  \n",
       "    function run_inline_js() {\n",
       "      for (var i = 0; i < inline_js.length; i++) {\n",
       "        inline_js[i](window.Bokeh);\n",
       "      }\n",
       "    }\n",
       "  \n",
       "    if (window._bokeh_is_loading === 0) {\n",
       "      console.log(\"Bokeh: BokehJS loaded, going straight to plotting\");\n",
       "      run_inline_js();\n",
       "    } else {\n",
       "      load_libs(js_urls, function() {\n",
       "        console.log(\"Bokeh: BokehJS plotting callback run at\", now());\n",
       "        run_inline_js();\n",
       "      });\n",
       "    }\n",
       "  }(this));\n",
       "</script>"
      ]
     },
     "metadata": {},
     "output_type": "display_data"
    },
    {
     "data": {
      "text/html": [
       "<p><code>&lt;Bokeh Notebook handle for <strong>In[13]</strong>&gt;</code></p>"
      ],
      "text/plain": [
       "<bokeh.io._CommsHandle at 0x7f83ec11c050>"
      ]
     },
     "execution_count": 13,
     "metadata": {},
     "output_type": "execute_result"
    }
   ],
   "source": [
    "import pandas as pd\n",
    "df = pd.DataFrame(f.result(), columns=['Noun', 'Count'])\n",
    "\n",
    "from bokeh.charts import Bar, show, output_notebook\n",
    "from bokeh.charts.attributes import cat\n",
    "output_notebook()\n",
    "\n",
    "p = Bar(df,\n",
    "        label=cat(columns='Noun', sort=False),\n",
    "        values='Count',\n",
    "        title='Top N nouns in r/movies subreddit')\n",
    "show(p)"
   ]
  },
  {
   "cell_type": "code",
   "execution_count": null,
   "metadata": {
    "collapsed": true
   },
   "outputs": [],
   "source": []
  }
 ],
 "metadata": {
  "kernelspec": {
   "display_name": "Python 2",
   "language": "python",
   "name": "python2"
  },
  "language_info": {
   "codemirror_mode": {
    "name": "ipython",
    "version": 2
   },
   "file_extension": ".py",
   "mimetype": "text/x-python",
   "name": "python",
   "nbconvert_exporter": "python",
   "pygments_lexer": "ipython2",
   "version": "2.7.11"
  }
 },
 "nbformat": 4,
 "nbformat_minor": 0
}
